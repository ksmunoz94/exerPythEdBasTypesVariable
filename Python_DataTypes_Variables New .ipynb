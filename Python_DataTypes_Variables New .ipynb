{
  "cells": [
    {
      "cell_type": "markdown",
      "source": [
        "### Instructions\n",
        "\n",
        "* Sign up for the free course on Educative, __Learn Python 3 From Scratch__\n",
        "* https://www.educative.io/courses/learn-python-3-from-scratch\n",
        "* Complete the programming exercises below as you go through the course.\n",
        "* Delete or comment out the line of code in each cell which says `raise NotImplementedError()` and replace it with your own."
      ],
      "metadata": {
        "deletable": false,
        "editable": false,
        "nbgrader": {
          "cell_type": "markdown",
          "checksum": "742b151ccaefe7ca8b19372a153d8c35",
          "grade": false,
          "grade_id": "cell-391ad82e26ad2d29",
          "locked": true,
          "schema_version": 3,
          "solution": false,
          "task": false
        }
      },
      "id": "d427adea"
    },
    {
      "cell_type": "markdown",
      "source": [
        "# Educative - Data Types and Variables\n",
        "\n",
        "https://www.educative.io/courses/learn-python-3-from-scratch/BnxqV56jvjx"
      ],
      "metadata": {
        "deletable": false,
        "editable": false,
        "nbgrader": {
          "cell_type": "markdown",
          "checksum": "2da0df50bce4c1cf6f85a1f84f365b95",
          "grade": false,
          "grade_id": "cell-866864990e3a9d6e",
          "locked": true,
          "schema_version": 3,
          "solution": false,
          "task": false
        }
      },
      "id": "9b741610"
    },
    {
      "cell_type": "markdown",
      "source": [
        "Write code in the cell below to create a snake case variable name and assign it the value of 10."
      ],
      "metadata": {
        "deletable": false,
        "editable": false,
        "nbgrader": {
          "cell_type": "markdown",
          "checksum": "29282932878a50ed64e46ed434f331d2",
          "grade": false,
          "grade_id": "cell-d7d3b82940617ff2",
          "locked": true,
          "schema_version": 3,
          "solution": false,
          "task": false
        }
      },
      "id": "8ac982fa"
    },
    {
      "cell_type": "code",
      "source": [
        "snake_case = 10\n",
        "print(snake_case)"
      ],
      "outputs": [
        {
          "output_type": "stream",
          "name": "stdout",
          "text": [
            "10\n"
          ]
        }
      ],
      "execution_count": null,
      "metadata": {
        "deletable": false,
        "nbgrader": {
          "cell_type": "code",
          "checksum": "cbf7a3bae22fbe3726306c2223ee6a4e",
          "grade": true,
          "grade_id": "cell-761fb81a84d7a23d",
          "locked": false,
          "points": 1,
          "schema_version": 3,
          "solution": true,
          "task": false
        },
        "noteable": {},
        "ExecuteTime": {
          "start_time": "2023-09-09T18:42:57.918812+00:00",
          "end_time": "2023-09-09T18:42:58.073439+00:00"
        }
      },
      "id": "52397224"
    },
    {
      "cell_type": "markdown",
      "source": [
        "Write code in the cell below to create an integer variable."
      ],
      "metadata": {
        "deletable": false,
        "editable": false,
        "nbgrader": {
          "cell_type": "markdown",
          "checksum": "736a64181e554b757eb161b364a5b3c1",
          "grade": false,
          "grade_id": "cell-d59c6163b889f59c",
          "locked": true,
          "schema_version": 3,
          "solution": false,
          "task": false
        }
      },
      "id": "d98810a2"
    },
    {
      "cell_type": "code",
      "source": [
        "\n",
        "num = 5678  \n",
        "print(num)\n",
        "num = -1000  \n",
        "print(num)"
      ],
      "outputs": [
        {
          "output_type": "stream",
          "name": "stdout",
          "text": [
            "5678\n",
            "-1000\n"
          ]
        }
      ],
      "execution_count": null,
      "metadata": {
        "deletable": false,
        "nbgrader": {
          "cell_type": "code",
          "checksum": "9b11e598c2d9b5914696d2254b5c4aab",
          "grade": true,
          "grade_id": "cell-396125cff54505d8",
          "locked": false,
          "points": 1,
          "schema_version": 3,
          "solution": true,
          "task": false
        },
        "noteable": {},
        "ExecuteTime": {
          "start_time": "2023-09-09T18:45:29.483048+00:00",
          "end_time": "2023-09-09T18:45:29.637447+00:00"
        }
      },
      "id": "9d0ff161"
    },
    {
      "cell_type": "markdown",
      "source": [
        "Write code in the cell below to create a floating point variable."
      ],
      "metadata": {
        "deletable": false,
        "editable": false,
        "nbgrader": {
          "cell_type": "markdown",
          "checksum": "6d4079781229836e463778deaa8bb99e",
          "grade": false,
          "grade_id": "cell-b6d37869a80bd96f",
          "locked": true,
          "schema_version": 3,
          "solution": false,
          "task": false
        }
      },
      "id": "2080d0c3"
    },
    {
      "cell_type": "code",
      "source": [
        "flt_pt = 1.5\n",
        "print(flt_pt)"
      ],
      "outputs": [
        {
          "output_type": "stream",
          "name": "stdout",
          "text": [
            "1.5\n"
          ]
        }
      ],
      "execution_count": null,
      "metadata": {
        "deletable": false,
        "nbgrader": {
          "cell_type": "code",
          "checksum": "2715e70ca8eedc2fbd450ca3ffcc22ba",
          "grade": true,
          "grade_id": "cell-d2912c074866d9d3",
          "locked": false,
          "points": 1,
          "schema_version": 3,
          "solution": true,
          "task": false
        },
        "noteable": {},
        "ExecuteTime": {
          "start_time": "2023-09-09T18:46:27.794767+00:00",
          "end_time": "2023-09-09T18:46:27.949232+00:00"
        }
      },
      "id": "6f07e58d"
    },
    {
      "cell_type": "markdown",
      "source": [
        "Write code in the cell below to create a boolean variable and assign it an appropriate value."
      ],
      "metadata": {
        "deletable": false,
        "editable": false,
        "nbgrader": {
          "cell_type": "markdown",
          "checksum": "8bd9add54d09f99e700291edc7f25a65",
          "grade": false,
          "grade_id": "cell-119ea5d605f6edd8",
          "locked": true,
          "schema_version": 3,
          "solution": false,
          "task": false
        }
      },
      "id": "33fd9739"
    },
    {
      "cell_type": "code",
      "source": [
        "bool = True\n",
        "print(bool)\n",
        "\n",
        "f_bool = False\n",
        "print(f_bool)"
      ],
      "outputs": [
        {
          "output_type": "stream",
          "name": "stdout",
          "text": [
            "True\n",
            "False\n"
          ]
        }
      ],
      "execution_count": null,
      "metadata": {
        "deletable": false,
        "nbgrader": {
          "cell_type": "code",
          "checksum": "c29d30f80368f9c549d4ddf0b2ca6ad9",
          "grade": true,
          "grade_id": "cell-af54f2888b2c727e",
          "locked": false,
          "points": 1,
          "schema_version": 3,
          "solution": true,
          "task": false
        },
        "noteable": {},
        "ExecuteTime": {
          "start_time": "2023-09-09T19:36:02.050117+00:00",
          "end_time": "2023-09-09T19:36:02.205158+00:00"
        }
      },
      "id": "7fbccad3"
    },
    {
      "cell_type": "markdown",
      "source": [
        "Write code in the cell below to create a string variable."
      ],
      "metadata": {
        "deletable": false,
        "editable": false,
        "nbgrader": {
          "cell_type": "markdown",
          "checksum": "4fba16b60362bd8836f43c75fc5ba38c",
          "grade": false,
          "grade_id": "cell-4ce716f45e010bf9",
          "locked": true,
          "schema_version": 3,
          "solution": false,
          "task": false
        }
      },
      "id": "6441ed88"
    },
    {
      "cell_type": "code",
      "source": [
        "print(\"Taylor Swift\")"
      ],
      "outputs": [
        {
          "output_type": "stream",
          "name": "stdout",
          "text": [
            "Taylor Swift\n"
          ]
        }
      ],
      "execution_count": null,
      "metadata": {
        "deletable": false,
        "nbgrader": {
          "cell_type": "code",
          "checksum": "f56e3e26741187c34a26f3b4bb0e70d1",
          "grade": true,
          "grade_id": "cell-5335282ac8e23828",
          "locked": false,
          "points": 1,
          "schema_version": 3,
          "solution": true,
          "task": false
        },
        "noteable": {},
        "ExecuteTime": {
          "start_time": "2023-09-09T18:51:44.702865+00:00",
          "end_time": "2023-09-09T18:51:44.857100+00:00"
        }
      },
      "id": "1bb7f4a7"
    },
    {
      "cell_type": "markdown",
      "source": [
        "Write code in the cell below to print the length of the given string variable."
      ],
      "metadata": {
        "deletable": false,
        "editable": false,
        "nbgrader": {
          "cell_type": "markdown",
          "checksum": "f47f60c2519bbbc7d823fb1e9abfc092",
          "grade": false,
          "grade_id": "cell-81b798894dad2560",
          "locked": true,
          "schema_version": 3,
          "solution": false,
          "task": false
        }
      },
      "id": "271fbba2"
    },
    {
      "cell_type": "code",
      "source": [
        "random_string = \"I am Batman\"  # 11 characters\n",
        "print(len(random_string))"
      ],
      "outputs": [
        {
          "output_type": "stream",
          "name": "stdout",
          "text": [
            "11\n"
          ]
        }
      ],
      "execution_count": null,
      "metadata": {
        "deletable": false,
        "nbgrader": {
          "cell_type": "code",
          "checksum": "8a42c93c662715e1a87ddb21e3954a9c",
          "grade": true,
          "grade_id": "cell-bc1b2e67e758bc5a",
          "locked": false,
          "points": 1,
          "schema_version": 3,
          "solution": true,
          "task": false
        },
        "noteable": {},
        "ExecuteTime": {
          "start_time": "2023-09-09T18:52:42.754794+00:00",
          "end_time": "2023-09-09T18:52:42.909903+00:00"
        }
      },
      "id": "761b7a69"
    },
    {
      "cell_type": "markdown",
      "source": [
        "Write code in the cell below to print a slice of the string which includes the first four characters."
      ],
      "metadata": {
        "deletable": false,
        "editable": false,
        "nbgrader": {
          "cell_type": "markdown",
          "checksum": "18610b4e92c9fe339f27838b076b4f6b",
          "grade": false,
          "grade_id": "cell-1d6e95db84984faf",
          "locked": true,
          "schema_version": 3,
          "solution": false,
          "task": false
        }
      },
      "id": "05ed514a"
    },
    {
      "cell_type": "code",
      "source": [
        "my_string = \"This is MY string!\"\n",
        "print(my_string[0:4])"
      ],
      "outputs": [
        {
          "output_type": "stream",
          "name": "stdout",
          "text": [
            "This\n"
          ]
        }
      ],
      "execution_count": null,
      "metadata": {
        "deletable": false,
        "nbgrader": {
          "cell_type": "code",
          "checksum": "0d9863f703610543f3390b3536811f9e",
          "grade": true,
          "grade_id": "cell-1792d01dd2bc1d02",
          "locked": false,
          "points": 1,
          "schema_version": 3,
          "solution": true,
          "task": false
        },
        "noteable": {},
        "ExecuteTime": {
          "start_time": "2023-09-09T18:54:40.678235+00:00",
          "end_time": "2023-09-09T18:54:40.832676+00:00"
        }
      },
      "id": "3a8d1311"
    },
    {
      "cell_type": "markdown",
      "source": [
        "Write code in the cell below to print the sum of the two variables using the addition operator."
      ],
      "metadata": {
        "deletable": false,
        "editable": false,
        "nbgrader": {
          "cell_type": "markdown",
          "checksum": "58093f80c1a1406f825b3369de4fee20",
          "grade": false,
          "grade_id": "cell-273a10b2eeb9bb21",
          "locked": true,
          "schema_version": 3,
          "solution": false,
          "task": false
        }
      },
      "id": "7626ddde"
    },
    {
      "cell_type": "code",
      "source": [
        "num = 20\n",
        "flt = 10.5\n",
        "print(num + flt)"
      ],
      "outputs": [
        {
          "output_type": "stream",
          "name": "stdout",
          "text": [
            "30.5\n"
          ]
        }
      ],
      "execution_count": null,
      "metadata": {
        "deletable": false,
        "nbgrader": {
          "cell_type": "code",
          "checksum": "3503798d55b5c1d5b0bebb53dbc8fbac",
          "grade": true,
          "grade_id": "cell-f5331b4cce28e8db",
          "locked": false,
          "points": 1,
          "schema_version": 3,
          "solution": true,
          "task": false
        },
        "noteable": {},
        "ExecuteTime": {
          "start_time": "2023-09-09T18:57:49.097406+00:00",
          "end_time": "2023-09-09T18:57:49.252104+00:00"
        }
      },
      "id": "e0d690be"
    },
    {
      "cell_type": "markdown",
      "source": [
        "Write code in the cell below to print the product of the two variables using the multiplication operator."
      ],
      "metadata": {
        "deletable": false,
        "editable": false,
        "nbgrader": {
          "cell_type": "markdown",
          "checksum": "8394a654da5322b5b8cdd0b40fc9c0d6",
          "grade": false,
          "grade_id": "cell-9ed29caf03aa9fc7",
          "locked": true,
          "schema_version": 3,
          "solution": false,
          "task": false
        }
      },
      "id": "91ffdea0"
    },
    {
      "cell_type": "code",
      "source": [
        "num = 20\n",
        "flt = 10.5\n",
        " \n",
        "print(num * flt)"
      ],
      "outputs": [
        {
          "output_type": "stream",
          "name": "stdout",
          "text": [
            "210.0\n"
          ]
        }
      ],
      "execution_count": null,
      "metadata": {
        "deletable": false,
        "nbgrader": {
          "cell_type": "code",
          "checksum": "587ca1a170c5bd2880bc727667b30a7a",
          "grade": true,
          "grade_id": "cell-3f3cd8490abf38ae",
          "locked": false,
          "points": 1,
          "schema_version": 3,
          "solution": true,
          "task": false
        },
        "noteable": {},
        "ExecuteTime": {
          "start_time": "2023-09-09T18:58:15.602127+00:00",
          "end_time": "2023-09-09T18:58:15.756998+00:00"
        }
      },
      "id": "e1560b4f"
    },
    {
      "cell_type": "markdown",
      "source": [
        "Write code in the cell below to print the result rounded down to the nearest smaller integer by dividing one variable by the other using the floor division operator."
      ],
      "metadata": {
        "deletable": false,
        "editable": false,
        "nbgrader": {
          "cell_type": "markdown",
          "checksum": "5a5fc54c7da72acd26cd7b14636f963e",
          "grade": false,
          "grade_id": "cell-6eebe319920d444c",
          "locked": true,
          "schema_version": 3,
          "solution": false,
          "task": false
        }
      },
      "id": "fd367b13"
    },
    {
      "cell_type": "code",
      "source": [
        "num = 20\n",
        "flt = 10.5\n",
        "\n",
        "print(20//10.5)"
      ],
      "outputs": [
        {
          "output_type": "stream",
          "name": "stdout",
          "text": [
            "1.0\n"
          ]
        }
      ],
      "execution_count": null,
      "metadata": {
        "deletable": false,
        "nbgrader": {
          "cell_type": "code",
          "checksum": "ca20418761d0fe4b7ddda801d288044a",
          "grade": true,
          "grade_id": "cell-b6effb3471f75209",
          "locked": false,
          "points": 1,
          "schema_version": 3,
          "solution": true,
          "task": false
        },
        "noteable": {},
        "ExecuteTime": {
          "start_time": "2023-09-09T18:59:06.570674+00:00",
          "end_time": "2023-09-09T18:59:06.725372+00:00"
        }
      },
      "id": "cccfd5b6"
    },
    {
      "cell_type": "markdown",
      "source": [
        "Write code in the cell below to print the remainder when dividing one variable by the other using the modulo operator."
      ],
      "metadata": {
        "deletable": false,
        "editable": false,
        "nbgrader": {
          "cell_type": "markdown",
          "checksum": "2372fd8cfdbe649f53ebd380f2b728ea",
          "grade": false,
          "grade_id": "cell-ad12b2ab1118a768",
          "locked": true,
          "schema_version": 3,
          "solution": false,
          "task": false
        }
      },
      "id": "2730ad5b"
    },
    {
      "cell_type": "code",
      "source": [
        "num = 20\n",
        "flt = 10.5\n",
        "\n",
        "print( 20 % 10.5)"
      ],
      "outputs": [
        {
          "output_type": "stream",
          "name": "stdout",
          "text": [
            "9.5\n"
          ]
        }
      ],
      "execution_count": null,
      "metadata": {
        "deletable": false,
        "nbgrader": {
          "cell_type": "code",
          "checksum": "cd6e1e15e35ad4b9e0db315e8f1f9a65",
          "grade": true,
          "grade_id": "cell-b4d1e8b1c4a837ec",
          "locked": false,
          "points": 1,
          "schema_version": 3,
          "solution": true,
          "task": false
        },
        "noteable": {},
        "ExecuteTime": {
          "start_time": "2023-09-09T18:59:42.640576+00:00",
          "end_time": "2023-09-09T18:59:42.796109+00:00"
        }
      },
      "id": "9ba57ac6"
    },
    {
      "cell_type": "markdown",
      "source": [
        "Write code in the cell below to print the result of comparing num1 to num2 using the greater than, less than, equal to, and not equal to operators."
      ],
      "metadata": {
        "deletable": false,
        "editable": false,
        "nbgrader": {
          "cell_type": "markdown",
          "checksum": "d61535c40b94fcff26ebd39f14edf57d",
          "grade": false,
          "grade_id": "cell-4b8d6facc0f396ce",
          "locked": true,
          "schema_version": 3,
          "solution": false,
          "task": false
        }
      },
      "id": "acc56b4e"
    },
    {
      "cell_type": "code",
      "source": [
        "num1 = 5\n",
        "num2 = 10\n",
        "\n",
        "print(num1 > num2)\n",
        "print(num1 < num2)\n",
        "print(num1 == num2)\n",
        "print(num1 != num2)\n"
      ],
      "outputs": [
        {
          "output_type": "stream",
          "name": "stdout",
          "text": [
            "False\n",
            "True\n",
            "False\n",
            "True\n"
          ]
        }
      ],
      "execution_count": null,
      "metadata": {
        "deletable": false,
        "nbgrader": {
          "cell_type": "code",
          "checksum": "54365f4ef64f871901d7531d65262db2",
          "grade": true,
          "grade_id": "cell-e19e82aa1c3cf0d9",
          "locked": false,
          "points": 1,
          "schema_version": 3,
          "solution": true,
          "task": false
        },
        "noteable": {},
        "ExecuteTime": {
          "start_time": "2023-09-09T19:02:55.972513+00:00",
          "end_time": "2023-09-09T19:02:56.127492+00:00"
        }
      },
      "id": "b9bae71f"
    },
    {
      "cell_type": "markdown",
      "source": [
        "Write code in the cell below to print the value for num1. \n",
        "\n",
        "Add 10 to num1 using the add and assign operator, and print the new value for num1."
      ],
      "metadata": {
        "deletable": false,
        "editable": false,
        "nbgrader": {
          "cell_type": "markdown",
          "checksum": "a98fe5d22046b8c7c3065a609d6c2cfe",
          "grade": false,
          "grade_id": "cell-6978262182c9294c",
          "locked": true,
          "schema_version": 3,
          "solution": false,
          "task": false
        }
      },
      "id": "098cb888"
    },
    {
      "cell_type": "code",
      "source": [
        "num1 = 5\n",
        "\n",
        "num1 +=10\n",
        "print(num1)"
      ],
      "outputs": [
        {
          "output_type": "stream",
          "name": "stdout",
          "text": [
            "15\n"
          ]
        }
      ],
      "execution_count": null,
      "metadata": {
        "deletable": false,
        "nbgrader": {
          "cell_type": "code",
          "checksum": "605f092f14deacc820a0a2c29fa466fc",
          "grade": true,
          "grade_id": "cell-6f15b764a48c59fb",
          "locked": false,
          "points": 1,
          "schema_version": 3,
          "solution": true,
          "task": false
        },
        "noteable": {},
        "ExecuteTime": {
          "start_time": "2023-09-09T19:09:25.232853+00:00",
          "end_time": "2023-09-09T19:09:25.387601+00:00"
        }
      },
      "id": "4c838653"
    },
    {
      "cell_type": "markdown",
      "source": [
        "Write code in the cell below to print the result for each of the boolean expressions below which use the comparison operators `or`, `and`, and `not`."
      ],
      "metadata": {
        "deletable": false,
        "editable": false,
        "nbgrader": {
          "cell_type": "markdown",
          "checksum": "ad0356b77cb43ee2bfcdc30e5248775f",
          "grade": false,
          "grade_id": "cell-52f2061e79a35cf8",
          "locked": true,
          "schema_version": 3,
          "solution": false,
          "task": false
        }
      },
      "id": "3e57efe8"
    },
    {
      "cell_type": "code",
      "source": [
        "# OR Expression\n",
        "my_bool1 = True or False\n",
        "\n",
        "\n",
        "# AND Expression\n",
        "my_bool2 = True and False\n",
        "\n",
        "\n",
        "# NOT expression\n",
        "my_bool3 = False\n",
        "\n",
        "print(my_bool1)\n",
        "print(my_bool2)\n",
        "print(not my_bool3)\n"
      ],
      "outputs": [
        {
          "output_type": "stream",
          "name": "stdout",
          "text": [
            "True\n",
            "False\n",
            "True\n"
          ]
        }
      ],
      "execution_count": null,
      "metadata": {
        "deletable": false,
        "nbgrader": {
          "cell_type": "code",
          "checksum": "1891bf59cdd22f85de48a5a02d6eae44",
          "grade": true,
          "grade_id": "cell-8b3f949c8b00c81c",
          "locked": false,
          "points": 1,
          "schema_version": 3,
          "solution": true,
          "task": false
        },
        "noteable": {},
        "ExecuteTime": {
          "start_time": "2023-09-09T19:21:51.234236+00:00",
          "end_time": "2023-09-09T19:21:51.389314+00:00"
        }
      },
      "id": "7fa9376b"
    },
    {
      "cell_type": "markdown",
      "source": [
        "Run the code in the cell below and add end line comments on each print statement describing the results of the comparison."
      ],
      "metadata": {
        "deletable": false,
        "editable": false,
        "nbgrader": {
          "cell_type": "markdown",
          "checksum": "eee7dc82d613f6d2dd80e394b5fdd4d0",
          "grade": false,
          "grade_id": "cell-f688292300a740e5",
          "locked": true,
          "schema_version": 3,
          "solution": false,
          "task": false
        }
      },
      "id": "c605d1e8"
    },
    {
      "cell_type": "code",
      "source": [
        "print('a' < 'b')  # a is less than b\n",
        "\n",
        "house = \"Gryffindor\"\n",
        "house_copy = \"Gryffindor\"\n",
        "\n",
        "print(house == house_copy) #Both have the same value\n",
        "\n",
        "new_house = \"Slytherin\"\n",
        "\n",
        "print(house == new_house) #Both do not have the same value\n",
        "\n",
        "print(new_house <= house) # Slytherin is not less than or equal to Gryffindor\n",
        "\n",
        "print(new_house >= house) #Slytherine is greater than or equal to Gryffindor\n",
        "\n"
      ],
      "outputs": [
        {
          "output_type": "stream",
          "name": "stdout",
          "text": [
            "True\n",
            "True\n",
            "False\n",
            "False\n",
            "True\n"
          ]
        }
      ],
      "execution_count": null,
      "metadata": {
        "deletable": false,
        "nbgrader": {
          "cell_type": "code",
          "checksum": "148d05b54ad5f8687971541bfd24a87e",
          "grade": true,
          "grade_id": "cell-a97efd78e3049120",
          "locked": false,
          "points": 2,
          "schema_version": 3,
          "solution": true,
          "task": false
        },
        "noteable": {},
        "ExecuteTime": {
          "start_time": "2023-09-09T19:20:11.031258+00:00",
          "end_time": "2023-09-09T19:20:11.187844+00:00"
        }
      },
      "id": "4464a8f8"
    },
    {
      "cell_type": "markdown",
      "source": [
        "Write code in the cell below to create a new variable called `full_name`. \n",
        "\n",
        "Concatenate the given string variables in order using the addition operator.\n",
        "\n",
        "Print the new variable. "
      ],
      "metadata": {
        "deletable": false,
        "editable": false,
        "nbgrader": {
          "cell_type": "markdown",
          "checksum": "df5af7b70c577a22dedbfd2822cac93a",
          "grade": false,
          "grade_id": "cell-237f2cae3dab82f7",
          "locked": true,
          "schema_version": 3,
          "solution": false,
          "task": false
        }
      },
      "id": "31e0c61e"
    },
    {
      "cell_type": "code",
      "source": [
        "first_half = \"Bat\"\n",
        "second_half = \"man\"\n",
        "\n",
        "full_name = first_half + second_half\n",
        "print(full_name)"
      ],
      "outputs": [
        {
          "output_type": "stream",
          "name": "stdout",
          "text": [
            "Batman\n"
          ]
        }
      ],
      "execution_count": null,
      "metadata": {
        "deletable": false,
        "nbgrader": {
          "cell_type": "code",
          "checksum": "7054a94ec843adcafa4f944e974ae76f",
          "grade": true,
          "grade_id": "cell-327314a29d357cf1",
          "locked": false,
          "points": 1,
          "schema_version": 3,
          "solution": true,
          "task": false
        },
        "noteable": {},
        "ExecuteTime": {
          "start_time": "2023-09-09T19:24:25.347461+00:00",
          "end_time": "2023-09-09T19:24:25.502339+00:00"
        }
      },
      "id": "44f985df"
    },
    {
      "cell_type": "markdown",
      "source": [
        "Write code in the cell below which uses the `in` keyword to search for the word `eye` in the string below and print the result."
      ],
      "metadata": {
        "deletable": false,
        "editable": false,
        "nbgrader": {
          "cell_type": "markdown",
          "checksum": "d9ac8957ab32b13b2deaa4c261a54507",
          "grade": false,
          "grade_id": "cell-215ea0f3a819d34b",
          "locked": true,
          "schema_version": 3,
          "solution": false,
          "task": false
        }
      },
      "id": "9322de7d"
    },
    {
      "cell_type": "code",
      "source": [
        "string1 = \"There's no i in team.\"\n",
        "print(\"eye\" in string1)"
      ],
      "outputs": [
        {
          "output_type": "stream",
          "name": "stdout",
          "text": [
            "False\n"
          ]
        }
      ],
      "execution_count": null,
      "metadata": {
        "deletable": false,
        "nbgrader": {
          "cell_type": "code",
          "checksum": "bbbceba258bff97bf15808188deda4da",
          "grade": true,
          "grade_id": "cell-bf5323c2829cbd36",
          "locked": false,
          "points": 1,
          "schema_version": 3,
          "solution": true,
          "task": false
        },
        "noteable": {},
        "ExecuteTime": {
          "start_time": "2023-09-09T19:25:36.034769+00:00",
          "end_time": "2023-09-09T19:25:36.189915+00:00"
        }
      },
      "id": "201c4eac"
    },
    {
      "cell_type": "markdown",
      "source": [
        "Write code in the cell below which creates a list with the following items [1, 2.5, \"A string\", True] and print the list."
      ],
      "metadata": {
        "deletable": false,
        "editable": false,
        "nbgrader": {
          "cell_type": "markdown",
          "checksum": "852e8a2bb4b10d7df1ee5b592c449c65",
          "grade": false,
          "grade_id": "cell-2adf80bb6c66e619",
          "locked": true,
          "schema_version": 3,
          "solution": false,
          "task": false
        }
      },
      "id": "14c35af0"
    },
    {
      "cell_type": "code",
      "source": [
        "\n",
        "my_list = [1,2.5,\"A string\", True]\n",
        "print(my_list)"
      ],
      "outputs": [
        {
          "output_type": "stream",
          "name": "stdout",
          "text": [
            "[1, 2.5, 'A string', True]\n"
          ]
        }
      ],
      "execution_count": null,
      "metadata": {
        "deletable": false,
        "nbgrader": {
          "cell_type": "code",
          "checksum": "754feb743fb967025838a755dffe3682",
          "grade": true,
          "grade_id": "cell-55e5d4419692d20b",
          "locked": false,
          "points": 1,
          "schema_version": 3,
          "solution": true,
          "task": false
        },
        "noteable": {},
        "ExecuteTime": {
          "start_time": "2023-09-09T19:26:46.007714+00:00",
          "end_time": "2023-09-09T19:26:46.162960+00:00"
        }
      },
      "id": "da4a840a"
    },
    {
      "cell_type": "markdown",
      "source": [
        "Write code in the cell below to print the length of your list."
      ],
      "metadata": {
        "deletable": false,
        "editable": false,
        "nbgrader": {
          "cell_type": "markdown",
          "checksum": "81a3d63775bc8bb0dcc3c831efddeccf",
          "grade": false,
          "grade_id": "cell-c59518ae4bf7629e",
          "locked": true,
          "schema_version": 3,
          "solution": false,
          "task": false
        }
      },
      "id": "1da40a38"
    },
    {
      "cell_type": "code",
      "source": [
        "my_list = [1, 2.5, \"A string\", True]\n",
        "print(len(my_list))"
      ],
      "outputs": [
        {
          "output_type": "stream",
          "name": "stdout",
          "text": [
            "4\n"
          ]
        }
      ],
      "execution_count": null,
      "metadata": {
        "deletable": false,
        "nbgrader": {
          "cell_type": "code",
          "checksum": "b9c5edcfd225a444a456042a3e693633",
          "grade": true,
          "grade_id": "cell-d6f7000d69530aa2",
          "locked": false,
          "points": 1,
          "schema_version": 3,
          "solution": true,
          "task": false
        },
        "noteable": {},
        "ExecuteTime": {
          "start_time": "2023-09-09T19:28:09.429756+00:00",
          "end_time": "2023-09-09T19:28:09.584853+00:00"
        }
      },
      "id": "b4adbac0"
    }
  ],
  "metadata": {
    "kernelspec": {
      "name": "python3",
      "display_name": "Python 3.9",
      "language": "python"
    },
    "language_info": {
      "codemirror_mode": {
        "name": "ipython",
        "version": 3
      },
      "file_extension": ".py",
      "mimetype": "text/x-python",
      "name": "python",
      "nbconvert_exporter": "python",
      "pygments_lexer": "ipython3",
      "version": "3.8.8"
    },
    "selected_hardware_size": "small",
    "noteable": {
      "last_delta_id": "a55548a0-6e43-4b71-9b43-eea146a36da7"
    },
    "kernel_info": {
      "name": "python3"
    },
    "nteract": {
      "version": "noteable@2.9.0"
    }
  },
  "nbformat": 4,
  "nbformat_minor": 5
}